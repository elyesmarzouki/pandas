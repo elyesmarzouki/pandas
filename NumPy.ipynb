{
 "cells": [
  {
   "cell_type": "code",
   "execution_count": 1,
   "id": "16359bc9",
   "metadata": {},
   "outputs": [
    {
     "name": "stdout",
     "output_type": "stream",
     "text": [
      "[1, 2, 3, 4, 5]\n"
     ]
    }
   ],
   "source": [
    "import numpy as np\n",
    "\n",
    "my_array = np.array([1, 2, 3, 4, 5])\n",
    "\n",
    "my_list = my_array.tolist()\n",
    "\n",
    "print(my_list)"
   ]
  },
  {
   "cell_type": "code",
   "execution_count": 3,
   "id": "c8c9692a",
   "metadata": {},
   "outputs": [
    {
     "name": "stdout",
     "output_type": "stream",
     "text": [
      "15\n"
     ]
    }
   ],
   "source": [
    "my_array1 = np.array([[1, 2, 3], [4, 5, 6], [7, 8, 9]])\n",
    "\n",
    "diagonal_sum1 = 0\n",
    "for i in range(my_array1.shape[0]):\n",
    "    diagonal_sum1 += my_array1[i][i]\n",
    "\n",
    "print(diagonal_sum1)"
   ]
  },
  {
   "cell_type": "code",
   "execution_count": 5,
   "id": "a95e3789",
   "metadata": {},
   "outputs": [
    {
     "name": "stdout",
     "output_type": "stream",
     "text": [
      "15\n"
     ]
    }
   ],
   "source": [
    "my_array2 = np.array([[1, 2, 3], [4, 5, 6], [7, 8, 9]])\n",
    "\n",
    "diagonal_sum2 = np.trace(my_array2)\n",
    "\n",
    "print(diagonal_sum2)"
   ]
  },
  {
   "cell_type": "code",
   "execution_count": 6,
   "id": "fda76e18",
   "metadata": {},
   "outputs": [
    {
     "name": "stdout",
     "output_type": "stream",
     "text": [
      "6\n",
      "7\n",
      "8\n",
      "9\n"
     ]
    }
   ],
   "source": [
    "my_array3 = np.array([[1, 2, 3], [4, 5, 6], [7, 8, 9]])\n",
    "\n",
    "number = 5\n",
    "for i in range(my_array3.shape[0]):\n",
    "    for x in range(my_array3.shape[1]):\n",
    "        if my_array3[i][x] > number:\n",
    "            print(my_array3[i][x])"
   ]
  },
  {
   "cell_type": "code",
   "execution_count": 12,
   "id": "b6837048",
   "metadata": {},
   "outputs": [
    {
     "name": "stdout",
     "output_type": "stream",
     "text": [
      "[[ 6  8]\n",
      " [10 12]]\n"
     ]
    }
   ],
   "source": [
    "x = np.array([[1,2],[3,4]])\n",
    "y = np.array([[5,6],[7,8]])\n",
    "c = np.array([[0,0],[0,0]])\n",
    "\n",
    "for l in range(x.shape[0]):\n",
    "    for k in range(x.shape[1]):\n",
    "        c[l][k]=x[l][k]+y[l][k]\n",
    "print(c)"
   ]
  },
  {
   "cell_type": "code",
   "execution_count": 33,
   "id": "b266b2eb",
   "metadata": {},
   "outputs": [
    {
     "name": "stdout",
     "output_type": "stream",
     "text": [
      "[2. 5. 8.]\n",
      "[[2]\n",
      " [5]\n",
      " [8]]\n",
      "[[-1  0  1]\n",
      " [-1  0  1]\n",
      " [-1  0  1]]\n"
     ]
    }
   ],
   "source": [
    "my_array4 = np.array([[1, 2, 3], [4, 5, 6], [7, 8, 9]])\n",
    "\n",
    "row_means = np.mean(my_array4, axis=1)\n",
    "a = row_means.reshape(-1,1)\n",
    "a = a.astype(np.int32)\n",
    "my_array4 -= a\n",
    "print(row_means)\n",
    "print(a)\n",
    "print(my_array4)"
   ]
  },
  {
   "cell_type": "code",
   "execution_count": null,
   "id": "f93cb2b4",
   "metadata": {},
   "outputs": [],
   "source": []
  }
 ],
 "metadata": {
  "kernelspec": {
   "display_name": "Python 3 (ipykernel)",
   "language": "python",
   "name": "python3"
  },
  "language_info": {
   "codemirror_mode": {
    "name": "ipython",
    "version": 3
   },
   "file_extension": ".py",
   "mimetype": "text/x-python",
   "name": "python",
   "nbconvert_exporter": "python",
   "pygments_lexer": "ipython3",
   "version": "3.9.13"
  }
 },
 "nbformat": 4,
 "nbformat_minor": 5
}
